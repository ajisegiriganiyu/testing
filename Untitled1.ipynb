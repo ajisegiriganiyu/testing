{
 "cells": [
  {
   "cell_type": "code",
   "execution_count": 1,
   "metadata": {
    "collapsed": false
   },
   "outputs": [
    {
     "name": "stdout",
     "output_type": "stream",
     "text": [
      " Volume in drive C is Windows\n",
      " Volume Serial Number is 5A3C-8E2A\n",
      "\n",
      " Directory of C:\\Users\\Ajisegiri Ganiyu\\Desktop\\2016-06-29-testing\n",
      "\n",
      "30/06/2016  15:10    <DIR>          .\n",
      "30/06/2016  15:10    <DIR>          ..\n",
      "30/06/2016  15:10    <DIR>          .ipynb_checkpoints\n",
      "30/06/2016  15:08    <DIR>          __pycache__\n",
      "30/06/2016  14:11    <DIR>          2016-06-29-testing\n",
      "30/06/2016  14:59            10,579 Assert.ipynb\n",
      "29/06/2016  21:39                99 fib.py\n",
      "29/06/2016  21:41               111 fib_tests.py\n",
      "06/01/2016  20:32               627 mean.py\n",
      "29/06/2016  21:35               472 mean_tests.py\n",
      "06/01/2016  20:39               393 mod.py\n",
      "30/06/2016  15:07               199 mod_tests.py\n",
      "06/01/2016  20:29                16 mynum.py\n",
      "30/06/2016  15:09             1,891 Untitled.ipynb\n",
      "30/06/2016  15:10                72 Untitled1.ipynb\n",
      "              10 File(s)         14,459 bytes\n",
      "               5 Dir(s)  896,991,379,456 bytes free\n"
     ]
    }
   ],
   "source": [
    "ls\n"
   ]
  },
  {
   "cell_type": "code",
   "execution_count": 1,
   "metadata": {
    "collapsed": false
   },
   "outputs": [],
   "source": [
    "import mod_tests"
   ]
  },
  {
   "cell_type": "code",
   "execution_count": 2,
   "metadata": {
    "collapsed": false
   },
   "outputs": [],
   "source": [
    "mod_tests.test_mean_1234()"
   ]
  },
  {
   "cell_type": "code",
   "execution_count": 1,
   "metadata": {
    "collapsed": true
   },
   "outputs": [],
   "source": [
    "import mean_tests"
   ]
  },
  {
   "cell_type": "code",
   "execution_count": 3,
   "metadata": {
    "collapsed": false
   },
   "outputs": [],
   "source": [
    "mean_tests.test_ints()"
   ]
  },
  {
   "cell_type": "code",
   "execution_count": 4,
   "metadata": {
    "collapsed": true
   },
   "outputs": [],
   "source": [
    "mean_tests.test_double()"
   ]
  },
  {
   "cell_type": "code",
   "execution_count": 5,
   "metadata": {
    "collapsed": true
   },
   "outputs": [],
   "source": [
    "mean_tests.test_zero()"
   ]
  },
  {
   "cell_type": "code",
   "execution_count": 6,
   "metadata": {
    "collapsed": true
   },
   "outputs": [],
   "source": [
    "mean_tests.test_long()"
   ]
  },
  {
   "cell_type": "markdown",
   "metadata": {},
   "source": []
  }
 ],
 "metadata": {
  "kernelspec": {
   "display_name": "Python 3",
   "language": "python",
   "name": "python3"
  },
  "language_info": {
   "codemirror_mode": {
    "name": "ipython",
    "version": 3
   },
   "file_extension": ".py",
   "mimetype": "text/x-python",
   "name": "python",
   "nbconvert_exporter": "python",
   "pygments_lexer": "ipython3",
   "version": "3.5.1"
  }
 },
 "nbformat": 4,
 "nbformat_minor": 0
}
